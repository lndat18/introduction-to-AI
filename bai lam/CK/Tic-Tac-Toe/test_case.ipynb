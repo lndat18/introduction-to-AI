{
 "cells": [
  {
   "cell_type": "code",
   "execution_count": 58,
   "metadata": {},
   "outputs": [],
   "source": [
    "from problem import Problem\n",
    "from search import SearchStrategy"
   ]
  },
  {
   "cell_type": "code",
   "execution_count": 62,
   "metadata": {},
   "outputs": [
    {
     "name": "stdout",
     "output_type": "stream",
     "text": [
      "  0 1 2 3 4 5 6 7\n",
      "0 · · · · · · · ·\n",
      "1 · · · X · · · ·\n",
      "2 · · O O X · · ·\n",
      "3 · O · X · · · ·\n",
      "4 · · · · · · · ·\n",
      "5 · · · · · · · ·\n",
      "6 · · · · · · · ·\n",
      "7 · · · · · · · ·\n",
      "Move:  (2, 1)\n"
     ]
    }
   ],
   "source": [
    "problem = Problem()\n",
    "strategy = SearchStrategy()\n",
    "board = problem.board\n",
    "\n",
    "# Test Case 1\n",
    "board.make_move(2, 2, \"O\")\n",
    "board.make_move(3, 3, \"X\")\n",
    "board.make_move(3, 1, \"O\")\n",
    "board.make_move(1, 3, \"X\")\n",
    "board.make_move(2, 3, \"O\")\n",
    "board.make_move(2, 4, \"X\")\n",
    "\n",
    "# Test Case 2\n",
    "# board.make_move(2, 2, \"O\")\n",
    "# board.make_move(3, 5,\"X\")\n",
    "# board.make_move(2, 1, \"O\")\n",
    "# board.make_move(1, 3, \"X\")\n",
    "# board.make_move(2, 3, \"O\")\n",
    "# board.make_move(2, 4, \"X\")\n",
    "\n",
    "problem.board.draw()\n",
    "move = strategy.alpha_beta_search(problem)\n",
    "print(\"Move: \", move)"
   ]
  }
 ],
 "metadata": {
  "kernelspec": {
   "display_name": "myconda",
   "language": "python",
   "name": "python3"
  },
  "language_info": {
   "codemirror_mode": {
    "name": "ipython",
    "version": 3
   },
   "file_extension": ".py",
   "mimetype": "text/x-python",
   "name": "python",
   "nbconvert_exporter": "python",
   "pygments_lexer": "ipython3",
   "version": "3.8.19"
  }
 },
 "nbformat": 4,
 "nbformat_minor": 2
}
